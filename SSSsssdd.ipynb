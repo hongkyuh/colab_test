{
  "nbformat": 4,
  "nbformat_minor": 0,
  "metadata": {
    "colab": {
      "provenance": [],
      "authorship_tag": "ABX9TyMTxIcrs54Xbxj8VHS+EXvv",
      "include_colab_link": true
    },
    "kernelspec": {
      "name": "python3",
      "display_name": "Python 3"
    },
    "language_info": {
      "name": "python"
    }
  },
  "cells": [
    {
      "cell_type": "markdown",
      "metadata": {
        "id": "view-in-github",
        "colab_type": "text"
      },
      "source": [
        "<a href=\"https://colab.research.google.com/github/hongkyuh/colab_test/blob/main/SSSsssdd.ipynb\" target=\"_parent\"><img src=\"https://colab.research.google.com/assets/colab-badge.svg\" alt=\"Open In Colab\"/></a>"
      ]
    },
    {
      "cell_type": "code",
      "execution_count": null,
      "metadata": {
        "id": "cw_WEgjbnKwL"
      },
      "outputs": [],
      "source": [
        "asdfasdfsadfsadf"
      ]
    },
    {
      "cell_type": "code",
      "source": [
        "asdasdasddss"
      ],
      "metadata": {
        "id": "SNXwP1igooIF"
      },
      "execution_count": null,
      "outputs": []
    }
  ]
}